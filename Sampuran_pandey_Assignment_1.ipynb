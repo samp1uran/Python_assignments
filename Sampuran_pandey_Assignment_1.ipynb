{
  "nbformat": 4,
  "nbformat_minor": 0,
  "metadata": {
    "colab": {
      "provenance": [],
      "authorship_tag": "ABX9TyO1LS4WW/a2UVLExgW8+o6l",
      "include_colab_link": true
    },
    "kernelspec": {
      "name": "python3",
      "display_name": "Python 3"
    },
    "language_info": {
      "name": "python"
    }
  },
  "cells": [
    {
      "cell_type": "markdown",
      "metadata": {
        "id": "view-in-github",
        "colab_type": "text"
      },
      "source": [
        "<a href=\"https://colab.research.google.com/github/samp1uran/Python_assignments/blob/main/Sampuran_pandey_Assignment_1.ipynb\" target=\"_parent\"><img src=\"https://colab.research.google.com/assets/colab-badge.svg\" alt=\"Open In Colab\"/></a>"
      ]
    },
    {
      "cell_type": "code",
      "execution_count": 41,
      "metadata": {
        "colab": {
          "base_uri": "https://localhost:8080/"
        },
        "id": "G3z_X_Zxn_eX",
        "outputId": "7a53fd6b-0eca-4c30-8fc3-0af4d78b78c6"
      },
      "outputs": [
        {
          "output_type": "stream",
          "name": "stdout",
          "text": [
            "Enter first number: 2\n",
            "Enter second number: 2\n",
            "Addition: 4\n",
            "Substraction:  0\n",
            "Multiplication:  4\n",
            "Division:  1.0\n"
          ]
        }
      ],
      "source": [
        "# Takes a first number from user\n",
        "fnum = int(input(\"Enter first number: \"))\n",
        "# Takes a Second number from user\n",
        "snum = int(input(\"Enter second number: \"))\n",
        "\n",
        "# Displays a output of each operation\n",
        "print(\"Addition:\", fnum + snum  )\n",
        "print(\"Substraction: \", fnum - snum )\n",
        "print(\"Multiplication: \", fnum * snum )\n",
        "print(\"Division: \" , fnum / snum)\n"
      ]
    },
    {
      "cell_type": "code",
      "source": [
        "\n",
        "\n",
        "\n",
        "# get a first name from user\n",
        "fname = str(input(\"Enter Your First Name: \"))\n",
        "\n",
        "# get a Second name from user\n",
        "sname = str(input(\"Enter Your Second Name: \"))\n",
        "\n",
        "#print greetings\n",
        "print(\"Hello \" , fname + \" \",sname + \" Welcome to the Python Program \" )"
      ],
      "metadata": {
        "colab": {
          "base_uri": "https://localhost:8080/"
        },
        "id": "gPfQCP5vtCv9",
        "outputId": "22b78f11-4541-4a60-e74b-0b8311d857da"
      },
      "execution_count": 42,
      "outputs": [
        {
          "output_type": "stream",
          "name": "stdout",
          "text": [
            "Enter Your First Name: Rahul\n",
            "Enter Your Second Name: Bhadhwar\n",
            "Hello  Rahul  Bhadhwar Welcome to the Python Program \n"
          ]
        }
      ]
    }
  ]
}
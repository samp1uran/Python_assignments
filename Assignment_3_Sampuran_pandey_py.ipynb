{
  "nbformat": 4,
  "nbformat_minor": 0,
  "metadata": {
    "colab": {
      "provenance": [],
      "authorship_tag": "ABX9TyP9uI3u9DXmuZQWouHiceD+",
      "include_colab_link": true
    },
    "kernelspec": {
      "name": "python3",
      "display_name": "Python 3"
    },
    "language_info": {
      "name": "python"
    }
  },
  "cells": [
    {
      "cell_type": "markdown",
      "metadata": {
        "id": "view-in-github",
        "colab_type": "text"
      },
      "source": [
        "<a href=\"https://colab.research.google.com/github/samp1uran/Python_assignments/blob/main/Assignment_3_Sampuran_pandey_py.ipynb\" target=\"_parent\"><img src=\"https://colab.research.google.com/assets/colab-badge.svg\" alt=\"Open In Colab\"/></a>"
      ]
    },
    {
      "cell_type": "code",
      "execution_count": 14,
      "metadata": {
        "colab": {
          "base_uri": "https://localhost:8080/"
        },
        "id": "r3rfz0F3EUPA",
        "outputId": "bd72a0a0-cd8b-4870-dea7-124bb9af4e0f"
      },
      "outputs": [
        {
          "output_type": "stream",
          "name": "stdout",
          "text": [
            "Enter a number: 7\n",
            "Factorial of 7 is: 5040\n"
          ]
        }
      ],
      "source": [
        "fac = int(input(\"Enter a number: \"))\n",
        "\n",
        "# Calculate factorial\n",
        "factorial = 1\n",
        "\n",
        "#use of if,elif,else function\n",
        "if fac < 0:\n",
        "    print(\"Factorial does not exist for negative numbers\")\n",
        "elif fac == 0:\n",
        "    factorial = 1\n",
        "else:\n",
        "    for i in range(1, fac + 1):\n",
        "        factorial = factorial * i\n",
        "#printing the output\n",
        "print(f\"Factorial of {fac} is: {factorial}\")"
      ]
    },
    {
      "cell_type": "code",
      "metadata": {
        "colab": {
          "base_uri": "https://localhost:8080/"
        },
        "id": "8818a0c7",
        "outputId": "c5f1b3c4-542d-42f0-dc0c-590d5042e807"
      },
      "source": [
        "import math\n",
        "\n",
        "# Get input from the user\n",
        "num = float(input(\"Enter a number: \"))\n",
        "\n",
        "# Calculate using the math module\n",
        "square_root = math.sqrt(num)\n",
        "natural_log = math.log(num)\n",
        "sine_value = math.sin(num)\n",
        "\n",
        "# Display the results\n",
        "print(f\"The square root of {num} is: {square_root}\")\n",
        "print(f\"The natural logarithm of {num} is: {natural_log}\")\n",
        "print(f\"The sine of {num} (in radians) is: {sine_value}\")"
      ],
      "execution_count": 15,
      "outputs": [
        {
          "output_type": "stream",
          "name": "stdout",
          "text": [
            "Enter a number: 25\n",
            "The square root of 25.0 is: 5.0\n",
            "The natural logarithm of 25.0 is: 3.2188758248682006\n",
            "The sine of 25.0 (in radians) is: -0.13235175009777303\n"
          ]
        }
      ]
    }
  ]
}
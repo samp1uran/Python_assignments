{
  "nbformat": 4,
  "nbformat_minor": 0,
  "metadata": {
    "colab": {
      "provenance": [],
      "authorship_tag": "ABX9TyPz+ol1p2TbPyspNoErfj8H",
      "include_colab_link": true
    },
    "kernelspec": {
      "name": "python3",
      "display_name": "Python 3"
    },
    "language_info": {
      "name": "python"
    }
  },
  "cells": [
    {
      "cell_type": "markdown",
      "metadata": {
        "id": "view-in-github",
        "colab_type": "text"
      },
      "source": [
        "<a href=\"https://colab.research.google.com/github/samp1uran/Python_assignments/blob/main/Sampuran_pandey_Assignment_2.ipynb\" target=\"_parent\"><img src=\"https://colab.research.google.com/assets/colab-badge.svg\" alt=\"Open In Colab\"/></a>"
      ]
    },
    {
      "cell_type": "code",
      "execution_count": 8,
      "metadata": {
        "colab": {
          "base_uri": "https://localhost:8080/"
        },
        "id": "Ofc5KAjry0kp",
        "outputId": "711283e9-1670-4057-a610-54c832c1b227"
      },
      "outputs": [
        {
          "output_type": "stream",
          "name": "stdout",
          "text": [
            "Enter a Number : 7\n",
            "7 is a odd number\n"
          ]
        }
      ],
      "source": [
        "#takes a input from user\n",
        "inp = int(input(\"Enter a Number : \"))\n",
        "\n",
        "#use of if else function\n",
        "\n",
        "#if user enter a even number who is divided by 2 and remains 0\n",
        "if inp % 2 == 0:\n",
        "    print(inp , \"is a even number\")\n",
        "\n",
        "#if user enter a odd number who is divided by 2 and remains sum value\n",
        "else:\n",
        "    print(inp , \"is a odd number\")"
      ]
    },
    {
      "cell_type": "code",
      "source": [
        "# define a variable\n",
        "fnum = 0\n",
        "\n",
        "#use of for loop\n",
        "for numbers in range(0,51):\n",
        "  fnum += numbers\n",
        "\n",
        "#display the output\n",
        "print(\"the sum of integers from 1 to 50 is:\", fnum)\n"
      ],
      "metadata": {
        "colab": {
          "base_uri": "https://localhost:8080/"
        },
        "collapsed": true,
        "id": "MK-omNBI4eGk",
        "outputId": "c95c737c-2e63-486f-b8f2-faab269f3757"
      },
      "execution_count": 29,
      "outputs": [
        {
          "output_type": "stream",
          "name": "stdout",
          "text": [
            "the sum of integers from 1 to 50 is: 1275\n"
          ]
        }
      ]
    }
  ]
}
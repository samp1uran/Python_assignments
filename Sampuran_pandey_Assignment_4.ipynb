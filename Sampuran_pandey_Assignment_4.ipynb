{
  "nbformat": 4,
  "nbformat_minor": 0,
  "metadata": {
    "colab": {
      "provenance": [],
      "authorship_tag": "ABX9TyM8FGJZmzNAwYEHUekigsWP",
      "include_colab_link": true
    },
    "kernelspec": {
      "name": "python3",
      "display_name": "Python 3"
    },
    "language_info": {
      "name": "python"
    }
  },
  "cells": [
    {
      "cell_type": "markdown",
      "metadata": {
        "id": "view-in-github",
        "colab_type": "text"
      },
      "source": [
        "<a href=\"https://colab.research.google.com/github/samp1uran/Python_assignments/blob/main/Sampuran_pandey_Assignment_4.ipynb\" target=\"_parent\"><img src=\"https://colab.research.google.com/assets/colab-badge.svg\" alt=\"Open In Colab\"/></a>"
      ]
    },
    {
      "cell_type": "code",
      "execution_count": 5,
      "metadata": {
        "id": "X6jgmfOn4_by",
        "colab": {
          "base_uri": "https://localhost:8080/"
        },
        "outputId": "c9c6a220-3b41-4fc2-fe41-639bd6ce8a8b"
      },
      "outputs": [
        {
          "output_type": "stream",
          "name": "stdout",
          "text": [
            "['Hello,\\n', 'This is Python World!']\n"
          ]
        }
      ],
      "source": [
        "#Assigning a variable for reading a file\n",
        "file1 = open('new.txt','r')\n",
        "#reading a file\n",
        "#reading_file = file1.read()\n",
        "#reading in a assingned line\n",
        "#reading_file = file1.readline()\n",
        "#reading all lines in a list\n",
        "reading_file = file1.readlines()\n",
        "#print a file\n",
        "print(reading_file)\n",
        "#closing a file\n",
        "file1.close()"
      ]
    },
    {
      "cell_type": "code",
      "metadata": {
        "colab": {
          "base_uri": "https://localhost:8080/"
        },
        "id": "8dce3e34",
        "outputId": "7d8019dc-cad3-4efe-9228-3ebf495a99eb"
      },
      "source": [
        "try:\n",
        "    file1 = open('file.txt', 'r')\n",
        "        # Process the file here\n",
        "    content = file.read()\n",
        "    print(content)\n",
        "except FileNotFoundError:\n",
        "    print(\"The file 'file.txt' was not found.\")"
      ],
      "execution_count": 18,
      "outputs": [
        {
          "output_type": "stream",
          "name": "stdout",
          "text": [
            "The file 'file.txt' was not found.\n"
          ]
        }
      ]
    },
    {
      "cell_type": "code",
      "source": [
        "file2 = open('new.txt','a')\n",
        "writing_file = file2.write('\\nThis is a new line\\nIt Contains Multiple Line')\n",
        "print(writing_file)\n",
        "file2.close()"
      ],
      "metadata": {
        "colab": {
          "base_uri": "https://localhost:8080/"
        },
        "id": "NKTcieHiJHBC",
        "outputId": "60fd023e-1abb-4f87-b067-5597e1beb4ee"
      },
      "execution_count": 12,
      "outputs": [
        {
          "output_type": "stream",
          "name": "stdout",
          "text": [
            "45\n"
          ]
        }
      ]
    },
    {
      "cell_type": "code",
      "metadata": {
        "colab": {
          "base_uri": "https://localhost:8080/"
        },
        "id": "dc9a60cc",
        "outputId": "042af7e6-2129-4091-87e6-097c37347da0"
      },
      "source": [
        "user_input_1 = input(\"Enter text to write the file: \")\n"
      ],
      "execution_count": 58,
      "outputs": [
        {
          "name": "stdout",
          "output_type": "stream",
          "text": [
            "Enter text to write the file: Hello, Python\n"
          ]
        }
      ]
    },
    {
      "cell_type": "code",
      "source": [
        "user_input_2 = input(\"Enter text to write the file: \")"
      ],
      "metadata": {
        "colab": {
          "base_uri": "https://localhost:8080/"
        },
        "id": "ccNtvyp2X3ye",
        "outputId": "7b2eef1e-3084-42d4-a7d2-b1ce51194e75"
      },
      "execution_count": 59,
      "outputs": [
        {
          "name": "stdout",
          "output_type": "stream",
          "text": [
            "Enter text to write the file: Learning File Handling in python\n"
          ]
        }
      ]
    },
    {
      "cell_type": "code",
      "metadata": {
        "colab": {
          "base_uri": "https://localhost:8080/"
        },
        "id": "b7e65e37",
        "outputId": "afe98fc1-be84-46b9-d9bf-0916826a2024"
      },
      "source": [
        "file = open('output.txt', 'w')\n",
        "writing_file = file.write(user_input_1 + ' \\n' + user_input_2)\n",
        "print(writing_file)\n",
        "file.close()"
      ],
      "execution_count": 63,
      "outputs": [
        {
          "output_type": "stream",
          "name": "stdout",
          "text": [
            "47\n"
          ]
        }
      ]
    },
    {
      "cell_type": "code",
      "metadata": {
        "colab": {
          "base_uri": "https://localhost:8080/"
        },
        "id": "59e0cb14",
        "outputId": "de49a574-e1e6-48c6-a319-8724fa676cbc"
      },
      "source": [
        "file = open('output.txt', 'r')\n",
        "content = file.read()\n",
        "print(content)\n",
        "file.close()"
      ],
      "execution_count": 64,
      "outputs": [
        {
          "output_type": "stream",
          "name": "stdout",
          "text": [
            "Hello, Python \n",
            "Learning File Handling in python\n"
          ]
        }
      ]
    }
  ]
}
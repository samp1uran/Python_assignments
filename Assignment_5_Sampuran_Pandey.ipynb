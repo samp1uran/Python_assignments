{
  "nbformat": 4,
  "nbformat_minor": 0,
  "metadata": {
    "colab": {
      "provenance": [],
      "authorship_tag": "ABX9TyNAvDGdecOW/cJC9bez3j8N",
      "include_colab_link": true
    },
    "kernelspec": {
      "name": "python3",
      "display_name": "Python 3"
    },
    "language_info": {
      "name": "python"
    }
  },
  "cells": [
    {
      "cell_type": "markdown",
      "metadata": {
        "id": "view-in-github",
        "colab_type": "text"
      },
      "source": [
        "<a href=\"https://colab.research.google.com/github/samp1uran/Python_assignments/blob/main/Assignment_5_Sampuran_Pandey.ipynb\" target=\"_parent\"><img src=\"https://colab.research.google.com/assets/colab-badge.svg\" alt=\"Open In Colab\"/></a>"
      ]
    },
    {
      "cell_type": "code",
      "execution_count": null,
      "metadata": {
        "colab": {
          "base_uri": "https://localhost:8080/"
        },
        "id": "lqSiqfEbiBhG",
        "outputId": "66bf3da9-3399-4c38-a6a5-40ab31da81f7"
      },
      "outputs": [
        {
          "output_type": "stream",
          "name": "stdout",
          "text": [
            "Enter The Student Name Alice\n",
            "The marks of Alice are: 85\n"
          ]
        }
      ],
      "source": [
        "#students name and marks Dictioney\n",
        "StuNames = {\"Alice\" : 85 , \"Raj\" : 75, \"Vicky\" : 59 , \"Rahul\" : 94}\n",
        "\n",
        "#when user enter a value\n",
        "user_input = input(\"Enter The Student Name \")\n",
        "\n",
        "# if value is correct return the marks\n",
        "if user_input in StuNames:\n",
        "  result = StuNames[user_input]\n",
        "  print(f\"The marks of {user_input} are: {result}\")\n",
        "# if value is wrong return student is not found\n",
        "else:\n",
        "  print(f\"Student {user_input} not found in the list.\")"
      ]
    },
    {
      "cell_type": "code",
      "source": [
        "#students name and marks Dictioney\n",
        "StuNames = {\"Alice\" : 85 , \"Raj\" : 75, \"Vicky\" : 59 , \"Rahul\" : 94}\n",
        "\n",
        "#when user enter a value\n",
        "user_input = input(\"Enter The Student Name \")\n",
        "\n",
        "# if value is correct return the marks\n",
        "if user_input in StuNames:\n",
        "  result = StuNames[user_input]\n",
        "  print(f\"The marks of {user_input} are: {result}\")\n",
        "# if value is wrong return student is not found\n",
        "else:\n",
        "  print(f\"Student {user_input} not found in the list.\")"
      ],
      "metadata": {
        "colab": {
          "base_uri": "https://localhost:8080/"
        },
        "id": "uqeZibLEmBvw",
        "outputId": "85ec9734-c7a0-4884-9ac6-6c1617216dfd"
      },
      "execution_count": null,
      "outputs": [
        {
          "output_type": "stream",
          "name": "stdout",
          "text": [
            "Enter The Student Name jai\n",
            "Student jai not found in the list.\n"
          ]
        }
      ]
    },
    {
      "cell_type": "code",
      "source": [
        "#creation of list\n",
        "li = [1,2,3,4,5,6,7,8,9,10]\n",
        "#printing first five characters\n",
        "print(\"First Five Characters:\", li[0:5])\n",
        "\n",
        "#printing reserve first five characters\n",
        "li.reverse() # Reverse the list in-place\n",
        "print(\"Reserved First Five Characters:\", li[5:10]) # Print the first five elements of the reversed list"
      ],
      "metadata": {
        "colab": {
          "base_uri": "https://localhost:8080/"
        },
        "id": "S3fpvReBnzn1",
        "outputId": "28d53963-e677-4cf1-dd7f-bd0026d0f85c"
      },
      "execution_count": null,
      "outputs": [
        {
          "output_type": "stream",
          "name": "stdout",
          "text": [
            "First Five Characters: [1, 2, 3, 4, 5]\n",
            "Reserved First Five Characters: [5, 4, 3, 2, 1]\n"
          ]
        }
      ]
    }
  ]
}